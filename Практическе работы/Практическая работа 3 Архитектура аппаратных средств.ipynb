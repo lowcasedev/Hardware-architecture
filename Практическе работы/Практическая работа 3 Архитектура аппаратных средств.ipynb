{
 "cells": [
  {
   "cell_type": "markdown",
   "id": "a7ce22f9-923d-4e4b-843f-5582cbbf82c7",
   "metadata": {},
   "source": [
    "# Практическая работа №3 - Применение законов алгебры логики для построения сложных логических элементов ЭВМ\n",
    "\n",
    "**Цель практической работы:** Научиться применению законов алгебры логики и построению сложных логических элементов ЭВМ.\n",
    "\n",
    "**Ход работы:**\n",
    "1. Ознакомиться с заданиями\n",
    "2. Разработать программы на Python 3 для решения заданий\n",
    "3. Протестировать и отладить программы\n",
    "4. Решить задания с помощью созданных программ\n",
    "5. Заполнить отчет\n",
    "\n",
    "\n",
    "**Работу выполнил (ФИО студента):**"
   ]
  },
  {
   "cell_type": "markdown",
   "id": "d5fcfde6-f8ce-44c9-94a1-0dc5472a0195",
   "metadata": {},
   "source": []
  },
  {
   "cell_type": "markdown",
   "id": "8459eb1e-6a18-4ba2-b2e2-d27f4a1826b2",
   "metadata": {},
   "source": [
    "## Задание 1 - Создание сложных условий"
   ]
  },
  {
   "cell_type": "markdown",
   "id": "c6429f41",
   "metadata": {},
   "source": [
    "Напишите программу на языке python 3 с помощью условных операторов ``if, elif, else`` и др. реализующую логику в соответствии с заданием. Данные вводятся в программу при ее запуске с клавиатуры.\n"
   ]
  },
  {
   "cell_type": "markdown",
   "id": "2113c032-2d48-4e99-a01c-81da77f2a394",
   "metadata": {},
   "source": [
    "№1 Напишите программу, которая определяет когда на улице иду осадки. Она должна определять наличие и тип осадков: снег, дождь или отсутствие осадков. Программа получает с клавиатуры температуру и влажность воздуха. Если влажность 90% и более, то на улице идут осадки. Когда температура ниже нуля, то идет снег, если температура ноль и выше, то идет дождь."
   ]
  },
  {
   "cell_type": "code",
   "execution_count": 29,
   "id": "8c76791b-8a76-42ab-a31e-b25da949d50e",
   "metadata": {},
   "outputs": [
    {
     "name": "stdout",
     "output_type": "stream",
     "text": [
      "Осадки\n",
      "Снег\n"
     ]
    }
   ],
   "source": [
    "temp = int(input('Температура: '))\n",
    "water = int(input('Влажность: '))\n",
    "\n",
    "if (water >= 90):\n",
    "    print(\"Осадки\")\n",
    "    if (temp < 0):\n",
    "        print('Снег')\n",
    "    else:\n",
    "        print('Дождь')"
   ]
  },
  {
   "cell_type": "markdown",
   "id": "1d54d78c-ba89-4939-8047-47033ad077f0",
   "metadata": {},
   "source": [
    "№2 Создайте программу, которая проверяет возможность деления 2 чисел друг на друга. Если одно из чисел равно нулю, то программа должна вывести сообщение о невозможности деления, в противном случае вывести результат деления."
   ]
  },
  {
   "cell_type": "code",
   "execution_count": 22,
   "id": "d9d9c4bf-f39d-4500-80c8-d09b6d86550d",
   "metadata": {},
   "outputs": [
    {
     "name": "stdout",
     "output_type": "stream",
     "text": [
      "Ошибка\n"
     ]
    }
   ],
   "source": [
    "a = int(input('A: '))\n",
    "b = int(input('B: '))\n",
    "if (a == 0 or b == 0):\n",
    "    print('Ошибка')\n",
    "else:\n",
    "    print(\"A/B = \", a/b)\n",
    "    print(\"B/A = \", b/a)"
   ]
  },
  {
   "cell_type": "markdown",
   "id": "afee2a4d-dbd9-4848-80dd-9992aee67f5d",
   "metadata": {},
   "source": [
    "№3 Напишите программу, определяющую время суток на основе текущего времени. Текущее время вводит пользователь с клавиатуры, вводится только кол-во часов.\n",
    "- 3...5 часов - ранее утро\n",
    "- 6...10 часов - утро\n",
    "- 11...15 часов - день\n",
    "- 16...21 часов - вечер\n",
    "- 22...2 часов - ночь"
   ]
  },
  {
   "cell_type": "code",
   "execution_count": 23,
   "id": "72ec536e-1e42-4867-a8a6-5b0b2221b48b",
   "metadata": {},
   "outputs": [
    {
     "name": "stdout",
     "output_type": "stream",
     "text": [
      "Вечер\n"
     ]
    }
   ],
   "source": [
    "a = int(input('Часы: '))\n",
    "if (a >=3 and a <=5):\n",
    "    print('Раннее утро')\n",
    "elif (a >=6 and a <=10):\n",
    "    print('Утро')\n",
    "elif (a >=11 and a <=15):\n",
    "    print('День')\n",
    "elif(a >=16 and a <=21):\n",
    "    print('Вечер')\n",
    "else:\n",
    "    print('Ночь')"
   ]
  },
  {
   "cell_type": "markdown",
   "id": "76cf5d0d-34cf-4b61-9f6b-1136f78a4b18",
   "metadata": {},
   "source": [
    "№4 Напишите программу, определяющую четность целого числа. Если число делится на 2 без остатка, то программа должна вывести \"четное\", если при делении есть остаток то программа выведет \"нечетное\"."
   ]
  },
  {
   "cell_type": "code",
   "execution_count": 24,
   "id": "00d8d2be-c8c8-4cbf-b89e-e3a1901aa5ff",
   "metadata": {},
   "outputs": [
    {
     "name": "stdout",
     "output_type": "stream",
     "text": [
      "нечетное\n"
     ]
    }
   ],
   "source": [
    "a = int(input('Введи число'))\n",
    "if (a%2 == 0):\n",
    "    print('четное')\n",
    "elif(a == 0):\n",
    "    print('ошибка')\n",
    "else:\n",
    "    print('нечетное')"
   ]
  },
  {
   "cell_type": "markdown",
   "id": "2e7ddfd8-5725-4e13-8167-3a5c56bab90c",
   "metadata": {},
   "source": [
    "№5 Напишите программу, которая проверяет пароль на надежность по следующим требованиям:\n",
    "- Наличие заглавных букв\n",
    "- Наличие строчных букв\n",
    "- Наличие чисел\n",
    "- Длинна от 4 символов\n",
    "\n",
    "Если пароль соответствует требованиям, то программа должна вывести сообщение о том, что пароль подходит. В ином случае программа должна вывести сообщение о том, каким требованиям не соответствует пароль."
   ]
  },
  {
   "cell_type": "code",
   "execution_count": 25,
   "id": "386caf1c-5f9b-4359-869d-cbc32046f71e",
   "metadata": {},
   "outputs": [
    {
     "name": "stdout",
     "output_type": "stream",
     "text": [
      "Пароль подходит\n"
     ]
    }
   ],
   "source": [
    "password = input('Пароль: ')\n",
    "\n",
    "if (len(password) < 4):\n",
    "    print('Пароль слишком короткий')\n",
    "\n",
    "is_upper = False\n",
    "is_lower = False\n",
    "is_digits = False\n",
    "\n",
    "for i in password:\n",
    "    if (i.isupper()):\n",
    "        is_upper = True\n",
    "    if (i.islower()):\n",
    "        is_lower = True\n",
    "    if (i.isdigit()):\n",
    "        is_digits = True\n",
    "if (is_digits and is_lower and is_upper):\n",
    "    print('Пароль подходит')\n",
    "else:\n",
    "    print('Несоответствия: ')\n",
    "    if (is_digits == False):\n",
    "        print('Нет цифр')\n",
    "    if (is_lower == False):\n",
    "        print('Нет нижнего регистра')\n",
    "    if (is_upper == False):\n",
    "        print('Нет верхнего регистра')\n"
   ]
  },
  {
   "cell_type": "markdown",
   "id": "ec443828-abad-49e9-909c-a4cd1fb562c9",
   "metadata": {},
   "source": [
    "## Вывод"
   ]
  },
  {
   "cell_type": "markdown",
   "id": "10aaef74-7ef5-4bf9-a0bf-21cbf3dd7862",
   "metadata": {},
   "source": []
  }
 ],
 "metadata": {
  "kernelspec": {
   "display_name": "Python 3 (ipykernel)",
   "language": "python",
   "name": "python3"
  },
  "language_info": {
   "codemirror_mode": {
    "name": "ipython",
    "version": 3
   },
   "file_extension": ".py",
   "mimetype": "text/x-python",
   "name": "python",
   "nbconvert_exporter": "python",
   "pygments_lexer": "ipython3",
   "version": "3.10.11"
  }
 },
 "nbformat": 4,
 "nbformat_minor": 5
}
